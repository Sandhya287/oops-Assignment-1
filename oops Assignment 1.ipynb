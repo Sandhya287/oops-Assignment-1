{
 "cells": [
  {
   "cell_type": "code",
   "execution_count": null,
   "id": "779ffb40-ac8c-4838-a47e-b8f5b0c3295b",
   "metadata": {},
   "outputs": [],
   "source": [
    "#Q1. Explain Class and Object with respect to Object-Oriented Programming. Give a suitable example.\n"
   ]
  },
  {
   "cell_type": "code",
   "execution_count": null,
   "id": "54ccba1e-eaa2-4a30-94ee-f9e756923c3a",
   "metadata": {},
   "outputs": [],
   "source": [
    "Class and Object in OOP:\n",
    "\n",
    "Class: A class is a blueprint for creating objects. It defines a data structure that represents a concept or entity, along with the methods that operate on that data.\n",
    "\n",
    "Object: An object is an instance of a class. It is a real-world entity that is created based on the blueprint defined by a class.\n",
    "\n",
    "Example:"
   ]
  },
  {
   "cell_type": "code",
   "execution_count": 1,
   "id": "085e8210-26b1-42d8-9b5b-13a7e90be648",
   "metadata": {},
   "outputs": [
    {
     "name": "stdout",
     "output_type": "stream",
     "text": [
      "Buddy\n",
      "3\n",
      "Woof! Woof!\n"
     ]
    }
   ],
   "source": [
    "# Class definition\n",
    "class Dog:\n",
    "    def __init__(self, name, age):\n",
    "        self.name = name\n",
    "        self.age = age\n",
    "\n",
    "    def bark(self):\n",
    "        print(\"Woof! Woof!\")\n",
    "\n",
    "# Object instantiation\n",
    "my_dog = Dog(\"Buddy\", 3)\n",
    "\n",
    "# Accessing attributes and calling methods\n",
    "print(my_dog.name)  # Output: Buddy\n",
    "print(my_dog.age)   # Output: 3\n",
    "my_dog.bark()       # Output: Woof! Woof!\n"
   ]
  },
  {
   "cell_type": "code",
   "execution_count": null,
   "id": "77b16f70-f9bf-482a-ad3d-741fe11c04f3",
   "metadata": {},
   "outputs": [],
   "source": [
    "#Q2. Name the four pillars of OOPs."
   ]
  },
  {
   "cell_type": "code",
   "execution_count": null,
   "id": "58d65111-4dae-4cf1-8609-dfbef087b911",
   "metadata": {},
   "outputs": [],
   "source": [
    "Four Pillars of OOPs:\n",
    "\n",
    "1. Encapsulation: Bundling the data (attributes) and methods (functions) that operate on the data into a single unit (class) is called encapsulation.\n",
    "2. Abstraction: Hiding the complex implementation details and exposing only the necessary features to the user.\n",
    "3.Inheritance: Allows a class to inherit properties and methods from another class.\n",
    "4.Polymorphism: The ability of an object to take on multiple forms, i.e., a single entity can represent different types."
   ]
  },
  {
   "cell_type": "code",
   "execution_count": null,
   "id": "2c3a4d76-56e1-4e33-90c8-d1a3ad53865c",
   "metadata": {},
   "outputs": [],
   "source": [
    "#Q3. Explain why the __init__() function is used. Give a suitable example."
   ]
  },
  {
   "cell_type": "code",
   "execution_count": null,
   "id": "9e6a0e94-2970-451f-930d-72b2c6e5d815",
   "metadata": {},
   "outputs": [],
   "source": [
    "Purpose of __init__() Function:\n",
    "\n",
    "The __init__() function is used to initialize the attributes of an object when it is created. It is a special method in Python classes that gets called automatically when an object is instantiated.\n",
    "\n",
    "Example:"
   ]
  },
  {
   "cell_type": "code",
   "execution_count": 3,
   "id": "746f9860-1b56-491c-8750-a7fc658f3884",
   "metadata": {},
   "outputs": [],
   "source": [
    "class Car:\n",
    "    def __init__(self, make, model, year):\n",
    "        self.make = make\n",
    "        self.model = model\n",
    "        self.year = year\n",
    "\n",
    "# Object instantiation with attribute initialization\n",
    "my_car = Car(\"Toyota\", \"Camry\", 2022)\n"
   ]
  },
  {
   "cell_type": "code",
   "execution_count": null,
   "id": "6f93d224-9df1-47dd-9e1c-0415c28a827c",
   "metadata": {},
   "outputs": [],
   "source": [
    "#Q4. Why self is used in OOPs?"
   ]
  },
  {
   "cell_type": "code",
   "execution_count": null,
   "id": "1c449881-3d56-4279-8c81-41c6de3962bd",
   "metadata": {},
   "outputs": [],
   "source": [
    "Purpose of self in OOPs:\n",
    "\n",
    "In OOP, self is a convention that represents the instance of the class. It is the first parameter in the method definition and refers to the instance of the class. When calling a method on an object, the instance is automatically passed as the first argument (self).\n",
    "\n",
    "Example:"
   ]
  },
  {
   "cell_type": "code",
   "execution_count": 4,
   "id": "0aae0e0b-9b76-4427-ae28-f07f707ae44d",
   "metadata": {},
   "outputs": [
    {
     "name": "stdout",
     "output_type": "stream",
     "text": [
      "78.5\n"
     ]
    }
   ],
   "source": [
    "class Circle:\n",
    "    def __init__(self, radius):\n",
    "        self.radius = radius\n",
    "\n",
    "    def calculate_area(self):\n",
    "        return 3.14 * self.radius ** 2\n",
    "\n",
    "# Object instantiation and method call\n",
    "my_circle = Circle(5)\n",
    "area = my_circle.calculate_area()\n",
    "print(area)  # Output: 78.5\n"
   ]
  },
  {
   "cell_type": "code",
   "execution_count": null,
   "id": "c06fc170-b462-4a0b-9b5f-f9e931899e70",
   "metadata": {},
   "outputs": [],
   "source": [
    "#Q5. What is inheritance? Give an example for each type of inheritance.\n",
    "\n"
   ]
  },
  {
   "cell_type": "code",
   "execution_count": null,
   "id": "f33433bc-8027-4a8c-9275-c8a3c6d9aae4",
   "metadata": {},
   "outputs": [],
   "source": [
    "nheritance is a fundamental concept in Object-Oriented Programming (OOP) that allows a class (subclass or derived class) to inherit attributes and methods from another class (superclass or base class). This promotes code reuse and the creation of a hierarchy of classes, making it easier to manage and organize code.\n",
    "\n",
    "Example for Single Inheritance:"
   ]
  },
  {
   "cell_type": "code",
   "execution_count": 5,
   "id": "7a0239a1-b6d7-4c82-b641-5592d19f2ecf",
   "metadata": {},
   "outputs": [
    {
     "name": "stdout",
     "output_type": "stream",
     "text": [
      "Animal speaks\n",
      "Dog barks\n"
     ]
    }
   ],
   "source": [
    "class Animal:\n",
    "    def speak(self):\n",
    "        print(\"Animal speaks\")\n",
    "\n",
    "class Dog(Animal):\n",
    "    def bark(self):\n",
    "        print(\"Dog barks\")\n",
    "\n",
    "# Object instantiation and method calls\n",
    "my_dog = Dog()\n",
    "my_dog.speak()  # Output: Animal speaks\n",
    "my_dog.bark()   # Output: Dog barks\n"
   ]
  },
  {
   "cell_type": "code",
   "execution_count": null,
   "id": "14b484e6-c5ef-411a-96b4-fa61a04e2d2b",
   "metadata": {},
   "outputs": [],
   "source": [
    "In this example, Dog is a subclass that inherits from the Animal superclass. The Dog class can access the speak method from the Animal class.\n",
    "\n"
   ]
  },
  {
   "cell_type": "code",
   "execution_count": null,
   "id": "f358dbb9-b72d-4c0a-8bd5-7a595112cc2c",
   "metadata": {},
   "outputs": [],
   "source": [
    "Example for Multiple Inheritance:"
   ]
  },
  {
   "cell_type": "code",
   "execution_count": 6,
   "id": "da3933fa-2152-45f4-8fa3-230d6358ffff",
   "metadata": {},
   "outputs": [
    {
     "name": "stdout",
     "output_type": "stream",
     "text": [
      "Dog barks\n",
      "Bird chirps\n"
     ]
    }
   ],
   "source": [
    "class Bird:\n",
    "    def chirp(self):\n",
    "        print(\"Bird chirps\")\n",
    "\n",
    "class Parrot(Dog, Bird):\n",
    "    pass\n",
    "\n",
    "# Object instantiation and method calls\n",
    "my_parrot = Parrot()\n",
    "my_parrot.bark()  # Output: Dog barks\n",
    "my_parrot.chirp()  # Output: Bird chirps\n"
   ]
  },
  {
   "cell_type": "code",
   "execution_count": null,
   "id": "87b880ef-8d35-4921-b869-ca0c130fd0ac",
   "metadata": {},
   "outputs": [],
   "source": [
    "In this example, Parrot is a subclass that inherits from both Dog and Bird superclasses, demonstrating multiple inheritance. The Parrot class can access methods from both parent classes.\n",
    "\n"
   ]
  },
  {
   "cell_type": "code",
   "execution_count": null,
   "id": "6859470a-bb15-46dd-8a24-354ab4076445",
   "metadata": {},
   "outputs": [],
   "source": [
    "Example for Multilevel Inheritance:\n",
    "\n"
   ]
  },
  {
   "cell_type": "code",
   "execution_count": 7,
   "id": "addf21e7-ff1b-4f55-8ebf-3270dbff4066",
   "metadata": {},
   "outputs": [
    {
     "name": "stdout",
     "output_type": "stream",
     "text": [
      "Animal speaks\n",
      "Dog barks\n",
      "Labrador fetches\n"
     ]
    }
   ],
   "source": [
    "class Animal:\n",
    "    def speak(self):\n",
    "        print(\"Animal speaks\")\n",
    "\n",
    "class Dog(Animal):\n",
    "    def bark(self):\n",
    "        print(\"Dog barks\")\n",
    "\n",
    "class Labrador(Dog):\n",
    "    def fetch(self):\n",
    "        print(\"Labrador fetches\")\n",
    "\n",
    "# Object instantiation and method calls\n",
    "my_labrador = Labrador()\n",
    "my_labrador.speak()  # Output: Animal speaks\n",
    "my_labrador.bark()   # Output: Dog barks\n",
    "my_labrador.fetch()  # Output: Labrador fetches\n"
   ]
  },
  {
   "cell_type": "code",
   "execution_count": null,
   "id": "9edc653c-9b0c-4597-9ece-011058df81c2",
   "metadata": {},
   "outputs": [],
   "source": [
    "In this example, Labrador is a subclass that inherits from Dog, which in turn inherits from Animal. This demonstrates multilevel inheritance, where a class is derived from a class that is also derived from another class."
   ]
  }
 ],
 "metadata": {
  "kernelspec": {
   "display_name": "Python 3 (ipykernel)",
   "language": "python",
   "name": "python3"
  },
  "language_info": {
   "codemirror_mode": {
    "name": "ipython",
    "version": 3
   },
   "file_extension": ".py",
   "mimetype": "text/x-python",
   "name": "python",
   "nbconvert_exporter": "python",
   "pygments_lexer": "ipython3",
   "version": "3.10.8"
  }
 },
 "nbformat": 4,
 "nbformat_minor": 5
}
